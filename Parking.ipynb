{
 "cells": [
  {
   "cell_type": "code",
   "execution_count": 54,
   "id": "8e371250-1594-409f-a8de-f77a3264b851",
   "metadata": {},
   "outputs": [],
   "source": [
    "import pandas as pd"
   ]
  },
  {
   "cell_type": "code",
   "execution_count": 55,
   "id": "16c22e39-221b-4a11-b61d-f685759822c4",
   "metadata": {},
   "outputs": [
    {
     "name": "stderr",
     "output_type": "stream",
     "text": [
      "X:\\anaconda\\lib\\site-packages\\IPython\\core\\interactiveshell.py:3165: DtypeWarning: Columns (20,31,32) have mixed types.Specify dtype option on import or set low_memory=False.\n",
      "  has_raised = await self.run_ast_nodes(code_ast.body, cell_name,\n"
     ]
    }
   ],
   "source": [
    "data = pd.read_csv(\"311_Service_Requests_2020.csv\")"
   ]
  },
  {
   "cell_type": "code",
   "execution_count": 64,
   "id": "c8e9d5b7-7031-4ea8-9bab-f9f1acc1bbbb",
   "metadata": {},
   "outputs": [
    {
     "name": "stdout",
     "output_type": "stream",
     "text": [
      "2587316\n",
      "21470\n",
      "193721\n",
      "1118\n"
     ]
    }
   ],
   "source": [
    "total_incidents=data[\"Unique Key\"].count()\n",
    "df_1 = data[data[\"Incident Zip\"]==10027]\n",
    "myzip_incidents=df_1[\"Unique Key\"].count()\n",
    "df_2 = data[data[\"Complaint Type\"]==\"Illegal Parking\"]\n",
    "total_illegalparking=df_2[\"Unique Key\"].count()\n",
    "df_3 = df_2[df_2[\"Incident Zip\"]==10027]\n",
    "myzip_illegalparking=df_3[\"Unique Key\"].count()\n",
    "print(total_incidents)\n",
    "print(myzip_incidents)\n",
    "print(total_illegalparking)\n",
    "print(myzip_illegalparking)"
   ]
  },
  {
   "cell_type": "code",
   "execution_count": 63,
   "id": "c6f8b8fd-90ec-4fa7-8bb1-daecc42df9d4",
   "metadata": {},
   "outputs": [
    {
     "name": "stdout",
     "output_type": "stream",
     "text": [
      "0.07487334365033108\n",
      "0.05207265952491849\n"
     ]
    },
    {
     "data": {
      "text/plain": [
       "False"
      ]
     },
     "execution_count": 63,
     "metadata": {},
     "output_type": "execute_result"
    }
   ],
   "source": [
    "total = total_illegalparking/total_incidents\n",
    "myzip = myzip_illegalparking/myzip_incidents\n",
    "higher_parking_proportion = myzip > total\n",
    "print(total)\n",
    "print(myzip)\n",
    "higher_parking_proportion"
   ]
  },
  {
   "cell_type": "code",
   "execution_count": null,
   "id": "cb464b4a-52f2-4917-9c67-0d3769c0b8c7",
   "metadata": {},
   "outputs": [],
   "source": []
  }
 ],
 "metadata": {
  "kernelspec": {
   "display_name": "Python 3",
   "language": "python",
   "name": "python3"
  },
  "language_info": {
   "codemirror_mode": {
    "name": "ipython",
    "version": 3
   },
   "file_extension": ".py",
   "mimetype": "text/x-python",
   "name": "python",
   "nbconvert_exporter": "python",
   "pygments_lexer": "ipython3",
   "version": "3.8.8"
  }
 },
 "nbformat": 4,
 "nbformat_minor": 5
}
